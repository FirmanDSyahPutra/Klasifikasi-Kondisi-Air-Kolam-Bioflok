{
 "cells": [
  {
   "cell_type": "markdown",
   "id": "60099217-6c33-4cdf-8b57-2ebb6efab44c",
   "metadata": {},
   "source": [
    "# **Klasifikasi Kondisi Air Kolam Bioflok Dengan Decision Tree** "
   ]
  },
  {
   "cell_type": "markdown",
   "id": "c2e3716f-a426-44e1-ae7a-3af7384f6d65",
   "metadata": {},
   "source": [
    "Kolam bioflok merupakan teknologi dalam bidang akuakultur yang sedang berkembang saat ini karena dapat memberikan beberapa manfaat bagi para pembudidaya ikan. Dalam budidaya ikan tidak terlepas dari fungsi air yang memegang peranan penting bagi keberlangsungan hidup ikan, sehingga kondisi air didalam kolam seperti pH, amonia dan larutan oksigen harus terus dipantau secara teratur.\n",
    "\n",
    "Selain mengukur kondisi air, hal lain yang tentu penting adalah mengklasifikasikan kondisi air di dalam kolam. Melakukan klasifikasi berfungsi untuk mengetahui kondisi air seperti apa yang baik untuk budidaya ikan nila.\n",
    "\n",
    "**Tujuan Klasifikasi**\n",
    "1. Mengetahui status dari kondisi air\n",
    "2. Mengetahui *accuracy*, *precision*, *recall*, dan *f1-score*\n",
    "\n",
    "**Penjelasan Data Kondisi Air**\n",
    "1. Jumlah keseluruhan Data adalah 1716 Baris dengan 7 kolom.\n",
    "2. Terdapat 6 parameter yang terdiri dari pH, o2, amonia, date(tanggal), Pakan, Kematian dan 1 target yaitu status."
   ]
  },
  {
   "cell_type": "markdown",
   "id": "8ca67caa-2255-4b12-9037-df43f56e9ed7",
   "metadata": {},
   "source": [
    "## **Persiapan Library**\n",
    "\n",
    "Untuk library yang digunakan adalah sebagai berikut:\n",
    "1. pandas digunakan untuk mengakses data kondisi air.\n",
    "2. numpy digunakan untuk melakukan perhitungan numerik.\n",
    "3. matplotlib digunakan untuk visualisasi data.\n",
    "4. library sklearn untuk melakukan *splitting data*, klasifikasi dengan *decision tree*, menentukan *confusion matrix*, menentukan *classification   report*\n",
    "5. library graphviz untuk menampilkan plot *decision tree*"
   ]
  },
  {
   "cell_type": "code",
   "execution_count": 1,
   "id": "4e989b94-3e52-40b9-8f72-78ce7311ac67",
   "metadata": {},
   "outputs": [],
   "source": [
    "import pandas as pd\n",
    "import numpy as np\n",
    "import matplotlib.pyplot as plt\n",
    "from sklearn.model_selection import train_test_split\n",
    "from sklearn.tree import DecisionTreeClassifier\n",
    "from sklearn import tree\n",
    "from sklearn.metrics import confusion_matrix\n",
    "from sklearn.metrics import classification_report\n",
    "from sklearn.metrics import accuracy_score, precision_score, recall_score, f1_score\n",
    "from sklearn import tree\n",
    "import graphviz\n",
    "import pydotplus\n",
    "from IPython.display import Image"
   ]
  },
  {
   "cell_type": "markdown",
   "id": "1ce32a9c-24ba-43ad-8253-9c3e8c72e95d",
   "metadata": {},
   "source": [
    "## **Import Dataset**\n",
    "\n",
    "untuk dataset berisi hasil pembacaan sensor pH(KIT E-201C), sensor amonia(MQ-137), dan sensor *dissolved oxygen*. Selain itu dataset juga berisi date(tanggal) dengan range pengambilan setiap 30 menit yang dimulai dari tanggal 20 September hingga 08 Oktober. Di dalam dataset juga terdapat jenis pakan, jumlah kematian ikan dan status air yang dibagi lagi menjadi 3 yaitu Baik, Buruk, dan Sedang. Import dataset menggunakan pandas dengan tipe data excel."
   ]
  },
  {
   "cell_type": "code",
   "execution_count": 2,
   "id": "e669d293-a72d-4dcc-b68b-313e7870ce40",
   "metadata": {},
   "outputs": [],
   "source": [
    "raw = pd.read_excel('dataset.xlsx')"
   ]
  },
  {
   "cell_type": "code",
   "execution_count": 3,
   "id": "cd545119-7fc7-44a6-bd40-1d96d06692c6",
   "metadata": {},
   "outputs": [
    {
     "data": {
      "text/html": [
       "<div>\n",
       "<style scoped>\n",
       "    .dataframe tbody tr th:only-of-type {\n",
       "        vertical-align: middle;\n",
       "    }\n",
       "\n",
       "    .dataframe tbody tr th {\n",
       "        vertical-align: top;\n",
       "    }\n",
       "\n",
       "    .dataframe thead th {\n",
       "        text-align: right;\n",
       "    }\n",
       "</style>\n",
       "<table border=\"1\" class=\"dataframe\">\n",
       "  <thead>\n",
       "    <tr style=\"text-align: right;\">\n",
       "      <th></th>\n",
       "      <th>pH</th>\n",
       "      <th>o2</th>\n",
       "      <th>amonia</th>\n",
       "      <th>date</th>\n",
       "      <th>Pakan</th>\n",
       "      <th>Kematian</th>\n",
       "      <th>status</th>\n",
       "    </tr>\n",
       "  </thead>\n",
       "  <tbody>\n",
       "    <tr>\n",
       "      <th>0</th>\n",
       "      <td>4.15</td>\n",
       "      <td>1</td>\n",
       "      <td>0.01</td>\n",
       "      <td>2023-10-08 10:00:10</td>\n",
       "      <td>0</td>\n",
       "      <td>0 Ekor</td>\n",
       "      <td>Buruk</td>\n",
       "    </tr>\n",
       "    <tr>\n",
       "      <th>1</th>\n",
       "      <td>4.01</td>\n",
       "      <td>1</td>\n",
       "      <td>0.01</td>\n",
       "      <td>2023-10-08 09:30:10</td>\n",
       "      <td>0</td>\n",
       "      <td>0 Ekor</td>\n",
       "      <td>Buruk</td>\n",
       "    </tr>\n",
       "    <tr>\n",
       "      <th>2</th>\n",
       "      <td>4.05</td>\n",
       "      <td>1</td>\n",
       "      <td>0.02</td>\n",
       "      <td>2023-10-08 09:00:11</td>\n",
       "      <td>0</td>\n",
       "      <td>0 Ekor</td>\n",
       "      <td>Buruk</td>\n",
       "    </tr>\n",
       "    <tr>\n",
       "      <th>3</th>\n",
       "      <td>4.29</td>\n",
       "      <td>2</td>\n",
       "      <td>0.01</td>\n",
       "      <td>2023-10-08 08:30:11</td>\n",
       "      <td>0</td>\n",
       "      <td>0 Ekor</td>\n",
       "      <td>Buruk</td>\n",
       "    </tr>\n",
       "    <tr>\n",
       "      <th>4</th>\n",
       "      <td>4.47</td>\n",
       "      <td>1</td>\n",
       "      <td>0.01</td>\n",
       "      <td>2023-10-08 08:00:11</td>\n",
       "      <td>0</td>\n",
       "      <td>0 Ekor</td>\n",
       "      <td>Buruk</td>\n",
       "    </tr>\n",
       "    <tr>\n",
       "      <th>...</th>\n",
       "      <td>...</td>\n",
       "      <td>...</td>\n",
       "      <td>...</td>\n",
       "      <td>...</td>\n",
       "      <td>...</td>\n",
       "      <td>...</td>\n",
       "      <td>...</td>\n",
       "    </tr>\n",
       "    <tr>\n",
       "      <th>1711</th>\n",
       "      <td>6.06</td>\n",
       "      <td>4</td>\n",
       "      <td>0.01</td>\n",
       "      <td>2023-09-20 10:00:06</td>\n",
       "      <td>Sabas - 3</td>\n",
       "      <td>2 Ekor</td>\n",
       "      <td>Baik</td>\n",
       "    </tr>\n",
       "    <tr>\n",
       "      <th>1712</th>\n",
       "      <td>5.96</td>\n",
       "      <td>4</td>\n",
       "      <td>0.01</td>\n",
       "      <td>2023-09-20 09:30:06</td>\n",
       "      <td>Sabas - 3</td>\n",
       "      <td>2 Ekor</td>\n",
       "      <td>Sedang</td>\n",
       "    </tr>\n",
       "    <tr>\n",
       "      <th>1713</th>\n",
       "      <td>5.77</td>\n",
       "      <td>4</td>\n",
       "      <td>0.01</td>\n",
       "      <td>2023-09-20 09:00:05</td>\n",
       "      <td>Sabas - 3</td>\n",
       "      <td>2 Ekor</td>\n",
       "      <td>Sedang</td>\n",
       "    </tr>\n",
       "    <tr>\n",
       "      <th>1714</th>\n",
       "      <td>5.79</td>\n",
       "      <td>4</td>\n",
       "      <td>0.01</td>\n",
       "      <td>2023-09-20 08:30:05</td>\n",
       "      <td>Sabas - 3</td>\n",
       "      <td>2 Ekor</td>\n",
       "      <td>Sedang</td>\n",
       "    </tr>\n",
       "    <tr>\n",
       "      <th>1715</th>\n",
       "      <td>5.81</td>\n",
       "      <td>3</td>\n",
       "      <td>0.01</td>\n",
       "      <td>2023-09-20 08:00:08</td>\n",
       "      <td>Sabas - 3</td>\n",
       "      <td>2 Ekor</td>\n",
       "      <td>Sedang</td>\n",
       "    </tr>\n",
       "  </tbody>\n",
       "</table>\n",
       "<p>1716 rows × 7 columns</p>\n",
       "</div>"
      ],
      "text/plain": [
       "        pH  o2  amonia                 date      Pakan Kematian  status\n",
       "0     4.15   1    0.01  2023-10-08 10:00:10          0   0 Ekor   Buruk\n",
       "1     4.01   1    0.01  2023-10-08 09:30:10          0   0 Ekor   Buruk\n",
       "2     4.05   1    0.02  2023-10-08 09:00:11          0   0 Ekor   Buruk\n",
       "3     4.29   2    0.01  2023-10-08 08:30:11          0   0 Ekor   Buruk\n",
       "4     4.47   1    0.01  2023-10-08 08:00:11          0   0 Ekor   Buruk\n",
       "...    ...  ..     ...                  ...        ...      ...     ...\n",
       "1711  6.06   4    0.01  2023-09-20 10:00:06  Sabas - 3   2 Ekor    Baik\n",
       "1712  5.96   4    0.01  2023-09-20 09:30:06  Sabas - 3   2 Ekor  Sedang\n",
       "1713  5.77   4    0.01  2023-09-20 09:00:05  Sabas - 3   2 Ekor  Sedang\n",
       "1714  5.79   4    0.01  2023-09-20 08:30:05  Sabas - 3   2 Ekor  Sedang\n",
       "1715  5.81   3    0.01  2023-09-20 08:00:08  Sabas - 3   2 Ekor  Sedang\n",
       "\n",
       "[1716 rows x 7 columns]"
      ]
     },
     "execution_count": 3,
     "metadata": {},
     "output_type": "execute_result"
    }
   ],
   "source": [
    "raw"
   ]
  },
  {
   "cell_type": "markdown",
   "id": "0c4123c9-6a17-4c52-8f45-2dd0a677ba56",
   "metadata": {},
   "source": [
    "## **Data Transformation**\n",
    "\n",
    "*Data transformation* merupakan proses merubah struktur, format, atau nilai pada sebuah data. Pada kasus kali ini, tipe *data transformation* yang digunakan adalah *feature selection* sehingga hanya ada beberapa fitur saja yang digunakan pada klasifikasi seperti pH, amonia, dan o2 (oksigen) dan fitur yang lain yang tidak mempengaruhi klasifikasi akan dihilangkan."
   ]
  },
  {
   "cell_type": "code",
   "execution_count": 4,
   "id": "affe09d1-ec7e-4531-a41e-a99914e57b17",
   "metadata": {},
   "outputs": [
    {
     "name": "stdout",
     "output_type": "stream",
     "text": [
      "<class 'pandas.core.frame.DataFrame'>\n",
      "RangeIndex: 1716 entries, 0 to 1715\n",
      "Data columns (total 7 columns):\n",
      " #   Column    Non-Null Count  Dtype  \n",
      "---  ------    --------------  -----  \n",
      " 0   pH        1716 non-null   float64\n",
      " 1   o2        1716 non-null   int64  \n",
      " 2   amonia    1716 non-null   float64\n",
      " 3   date      1716 non-null   object \n",
      " 4   Pakan     1716 non-null   object \n",
      " 5   Kematian  1716 non-null   object \n",
      " 6   status    1716 non-null   object \n",
      "dtypes: float64(2), int64(1), object(4)\n",
      "memory usage: 94.0+ KB\n"
     ]
    }
   ],
   "source": [
    "raw.info()"
   ]
  },
  {
   "cell_type": "code",
   "execution_count": 5,
   "id": "85153666-b61b-4bc5-8c55-1ffefa81b807",
   "metadata": {},
   "outputs": [],
   "source": [
    "air = raw.drop(columns=['date', 'Pakan', 'Kematian'])"
   ]
  },
  {
   "cell_type": "code",
   "execution_count": 6,
   "id": "36b73b2e-efcc-4b1a-b09d-e4ee13abe57d",
   "metadata": {},
   "outputs": [
    {
     "data": {
      "text/html": [
       "<div>\n",
       "<style scoped>\n",
       "    .dataframe tbody tr th:only-of-type {\n",
       "        vertical-align: middle;\n",
       "    }\n",
       "\n",
       "    .dataframe tbody tr th {\n",
       "        vertical-align: top;\n",
       "    }\n",
       "\n",
       "    .dataframe thead th {\n",
       "        text-align: right;\n",
       "    }\n",
       "</style>\n",
       "<table border=\"1\" class=\"dataframe\">\n",
       "  <thead>\n",
       "    <tr style=\"text-align: right;\">\n",
       "      <th></th>\n",
       "      <th>pH</th>\n",
       "      <th>o2</th>\n",
       "      <th>amonia</th>\n",
       "      <th>status</th>\n",
       "    </tr>\n",
       "  </thead>\n",
       "  <tbody>\n",
       "    <tr>\n",
       "      <th>0</th>\n",
       "      <td>4.15</td>\n",
       "      <td>1</td>\n",
       "      <td>0.01</td>\n",
       "      <td>Buruk</td>\n",
       "    </tr>\n",
       "    <tr>\n",
       "      <th>1</th>\n",
       "      <td>4.01</td>\n",
       "      <td>1</td>\n",
       "      <td>0.01</td>\n",
       "      <td>Buruk</td>\n",
       "    </tr>\n",
       "    <tr>\n",
       "      <th>2</th>\n",
       "      <td>4.05</td>\n",
       "      <td>1</td>\n",
       "      <td>0.02</td>\n",
       "      <td>Buruk</td>\n",
       "    </tr>\n",
       "    <tr>\n",
       "      <th>3</th>\n",
       "      <td>4.29</td>\n",
       "      <td>2</td>\n",
       "      <td>0.01</td>\n",
       "      <td>Buruk</td>\n",
       "    </tr>\n",
       "    <tr>\n",
       "      <th>4</th>\n",
       "      <td>4.47</td>\n",
       "      <td>1</td>\n",
       "      <td>0.01</td>\n",
       "      <td>Buruk</td>\n",
       "    </tr>\n",
       "    <tr>\n",
       "      <th>...</th>\n",
       "      <td>...</td>\n",
       "      <td>...</td>\n",
       "      <td>...</td>\n",
       "      <td>...</td>\n",
       "    </tr>\n",
       "    <tr>\n",
       "      <th>1711</th>\n",
       "      <td>6.06</td>\n",
       "      <td>4</td>\n",
       "      <td>0.01</td>\n",
       "      <td>Baik</td>\n",
       "    </tr>\n",
       "    <tr>\n",
       "      <th>1712</th>\n",
       "      <td>5.96</td>\n",
       "      <td>4</td>\n",
       "      <td>0.01</td>\n",
       "      <td>Sedang</td>\n",
       "    </tr>\n",
       "    <tr>\n",
       "      <th>1713</th>\n",
       "      <td>5.77</td>\n",
       "      <td>4</td>\n",
       "      <td>0.01</td>\n",
       "      <td>Sedang</td>\n",
       "    </tr>\n",
       "    <tr>\n",
       "      <th>1714</th>\n",
       "      <td>5.79</td>\n",
       "      <td>4</td>\n",
       "      <td>0.01</td>\n",
       "      <td>Sedang</td>\n",
       "    </tr>\n",
       "    <tr>\n",
       "      <th>1715</th>\n",
       "      <td>5.81</td>\n",
       "      <td>3</td>\n",
       "      <td>0.01</td>\n",
       "      <td>Sedang</td>\n",
       "    </tr>\n",
       "  </tbody>\n",
       "</table>\n",
       "<p>1716 rows × 4 columns</p>\n",
       "</div>"
      ],
      "text/plain": [
       "        pH  o2  amonia  status\n",
       "0     4.15   1    0.01   Buruk\n",
       "1     4.01   1    0.01   Buruk\n",
       "2     4.05   1    0.02   Buruk\n",
       "3     4.29   2    0.01   Buruk\n",
       "4     4.47   1    0.01   Buruk\n",
       "...    ...  ..     ...     ...\n",
       "1711  6.06   4    0.01    Baik\n",
       "1712  5.96   4    0.01  Sedang\n",
       "1713  5.77   4    0.01  Sedang\n",
       "1714  5.79   4    0.01  Sedang\n",
       "1715  5.81   3    0.01  Sedang\n",
       "\n",
       "[1716 rows x 4 columns]"
      ]
     },
     "execution_count": 6,
     "metadata": {},
     "output_type": "execute_result"
    }
   ],
   "source": [
    "air"
   ]
  },
  {
   "cell_type": "markdown",
   "id": "bca2454d-a05d-4ccf-9063-0a195e57c75b",
   "metadata": {},
   "source": [
    "## **Memisahkan fitur dan target**\n",
    "\n",
    "Fitur berisi parameter yang terdapat pada dataset dan target berisi kelas atau pada dataset disebut dengan status. Fitur diwakili dengan variabel x dan target diwakili dengan variabel y"
   ]
  },
  {
   "cell_type": "code",
   "execution_count": 7,
   "id": "1dc6adc1-f9ce-4811-8186-3517db2879e8",
   "metadata": {},
   "outputs": [],
   "source": [
    "fitur = ['pH', 'o2', 'amonia']\n",
    "x = air[fitur]\n",
    "y = air['status']"
   ]
  },
  {
   "cell_type": "code",
   "execution_count": 8,
   "id": "8267d9e6-da88-43a1-b489-70c424215e4a",
   "metadata": {},
   "outputs": [
    {
     "data": {
      "text/html": [
       "<div>\n",
       "<style scoped>\n",
       "    .dataframe tbody tr th:only-of-type {\n",
       "        vertical-align: middle;\n",
       "    }\n",
       "\n",
       "    .dataframe tbody tr th {\n",
       "        vertical-align: top;\n",
       "    }\n",
       "\n",
       "    .dataframe thead th {\n",
       "        text-align: right;\n",
       "    }\n",
       "</style>\n",
       "<table border=\"1\" class=\"dataframe\">\n",
       "  <thead>\n",
       "    <tr style=\"text-align: right;\">\n",
       "      <th></th>\n",
       "      <th>pH</th>\n",
       "      <th>o2</th>\n",
       "      <th>amonia</th>\n",
       "    </tr>\n",
       "  </thead>\n",
       "  <tbody>\n",
       "    <tr>\n",
       "      <th>0</th>\n",
       "      <td>4.15</td>\n",
       "      <td>1</td>\n",
       "      <td>0.01</td>\n",
       "    </tr>\n",
       "    <tr>\n",
       "      <th>1</th>\n",
       "      <td>4.01</td>\n",
       "      <td>1</td>\n",
       "      <td>0.01</td>\n",
       "    </tr>\n",
       "    <tr>\n",
       "      <th>2</th>\n",
       "      <td>4.05</td>\n",
       "      <td>1</td>\n",
       "      <td>0.02</td>\n",
       "    </tr>\n",
       "    <tr>\n",
       "      <th>3</th>\n",
       "      <td>4.29</td>\n",
       "      <td>2</td>\n",
       "      <td>0.01</td>\n",
       "    </tr>\n",
       "    <tr>\n",
       "      <th>4</th>\n",
       "      <td>4.47</td>\n",
       "      <td>1</td>\n",
       "      <td>0.01</td>\n",
       "    </tr>\n",
       "    <tr>\n",
       "      <th>...</th>\n",
       "      <td>...</td>\n",
       "      <td>...</td>\n",
       "      <td>...</td>\n",
       "    </tr>\n",
       "    <tr>\n",
       "      <th>1711</th>\n",
       "      <td>6.06</td>\n",
       "      <td>4</td>\n",
       "      <td>0.01</td>\n",
       "    </tr>\n",
       "    <tr>\n",
       "      <th>1712</th>\n",
       "      <td>5.96</td>\n",
       "      <td>4</td>\n",
       "      <td>0.01</td>\n",
       "    </tr>\n",
       "    <tr>\n",
       "      <th>1713</th>\n",
       "      <td>5.77</td>\n",
       "      <td>4</td>\n",
       "      <td>0.01</td>\n",
       "    </tr>\n",
       "    <tr>\n",
       "      <th>1714</th>\n",
       "      <td>5.79</td>\n",
       "      <td>4</td>\n",
       "      <td>0.01</td>\n",
       "    </tr>\n",
       "    <tr>\n",
       "      <th>1715</th>\n",
       "      <td>5.81</td>\n",
       "      <td>3</td>\n",
       "      <td>0.01</td>\n",
       "    </tr>\n",
       "  </tbody>\n",
       "</table>\n",
       "<p>1716 rows × 3 columns</p>\n",
       "</div>"
      ],
      "text/plain": [
       "        pH  o2  amonia\n",
       "0     4.15   1    0.01\n",
       "1     4.01   1    0.01\n",
       "2     4.05   1    0.02\n",
       "3     4.29   2    0.01\n",
       "4     4.47   1    0.01\n",
       "...    ...  ..     ...\n",
       "1711  6.06   4    0.01\n",
       "1712  5.96   4    0.01\n",
       "1713  5.77   4    0.01\n",
       "1714  5.79   4    0.01\n",
       "1715  5.81   3    0.01\n",
       "\n",
       "[1716 rows x 3 columns]"
      ]
     },
     "execution_count": 8,
     "metadata": {},
     "output_type": "execute_result"
    }
   ],
   "source": [
    "x"
   ]
  },
  {
   "cell_type": "code",
   "execution_count": 9,
   "id": "046e60ac-cc7d-4c45-8207-5ab58a25682e",
   "metadata": {},
   "outputs": [
    {
     "data": {
      "text/plain": [
       "0        Buruk\n",
       "1        Buruk\n",
       "2        Buruk\n",
       "3        Buruk\n",
       "4        Buruk\n",
       "         ...  \n",
       "1711      Baik\n",
       "1712    Sedang\n",
       "1713    Sedang\n",
       "1714    Sedang\n",
       "1715    Sedang\n",
       "Name: status, Length: 1716, dtype: object"
      ]
     },
     "execution_count": 9,
     "metadata": {},
     "output_type": "execute_result"
    }
   ],
   "source": [
    "y"
   ]
  },
  {
   "cell_type": "markdown",
   "id": "4f6d04d5-d7f6-4af4-90bf-58b915d6d966",
   "metadata": {},
   "source": [
    "## **Melakukan Splitting Data**\n",
    "\n",
    "Splitting data berfungsi untuk memisahkan *train data* dan *test data* dengan perbandingan 20% untuk *test data* dan 80% untuk *train data*"
   ]
  },
  {
   "cell_type": "code",
   "execution_count": 10,
   "id": "6dacdec1-9fb9-4ce9-9469-c268016d7ba1",
   "metadata": {},
   "outputs": [],
   "source": [
    "x_train, x_test, y_train, y_test = train_test_split(x, y, test_size=0.2, random_state=97)"
   ]
  },
  {
   "cell_type": "code",
   "execution_count": 11,
   "id": "5765e119-29c6-40bf-ace2-51564a554951",
   "metadata": {},
   "outputs": [
    {
     "data": {
      "text/plain": [
       "((1372, 3), (344, 3))"
      ]
     },
     "execution_count": 11,
     "metadata": {},
     "output_type": "execute_result"
    }
   ],
   "source": [
    "x_train.shape, x_test.shape"
   ]
  },
  {
   "cell_type": "code",
   "execution_count": 12,
   "id": "972b4847-b3ff-4a09-92f6-8041e1bb8217",
   "metadata": {},
   "outputs": [
    {
     "data": {
      "text/html": [
       "<style>#sk-container-id-1 {color: black;}#sk-container-id-1 pre{padding: 0;}#sk-container-id-1 div.sk-toggleable {background-color: white;}#sk-container-id-1 label.sk-toggleable__label {cursor: pointer;display: block;width: 100%;margin-bottom: 0;padding: 0.3em;box-sizing: border-box;text-align: center;}#sk-container-id-1 label.sk-toggleable__label-arrow:before {content: \"▸\";float: left;margin-right: 0.25em;color: #696969;}#sk-container-id-1 label.sk-toggleable__label-arrow:hover:before {color: black;}#sk-container-id-1 div.sk-estimator:hover label.sk-toggleable__label-arrow:before {color: black;}#sk-container-id-1 div.sk-toggleable__content {max-height: 0;max-width: 0;overflow: hidden;text-align: left;background-color: #f0f8ff;}#sk-container-id-1 div.sk-toggleable__content pre {margin: 0.2em;color: black;border-radius: 0.25em;background-color: #f0f8ff;}#sk-container-id-1 input.sk-toggleable__control:checked~div.sk-toggleable__content {max-height: 200px;max-width: 100%;overflow: auto;}#sk-container-id-1 input.sk-toggleable__control:checked~label.sk-toggleable__label-arrow:before {content: \"▾\";}#sk-container-id-1 div.sk-estimator input.sk-toggleable__control:checked~label.sk-toggleable__label {background-color: #d4ebff;}#sk-container-id-1 div.sk-label input.sk-toggleable__control:checked~label.sk-toggleable__label {background-color: #d4ebff;}#sk-container-id-1 input.sk-hidden--visually {border: 0;clip: rect(1px 1px 1px 1px);clip: rect(1px, 1px, 1px, 1px);height: 1px;margin: -1px;overflow: hidden;padding: 0;position: absolute;width: 1px;}#sk-container-id-1 div.sk-estimator {font-family: monospace;background-color: #f0f8ff;border: 1px dotted black;border-radius: 0.25em;box-sizing: border-box;margin-bottom: 0.5em;}#sk-container-id-1 div.sk-estimator:hover {background-color: #d4ebff;}#sk-container-id-1 div.sk-parallel-item::after {content: \"\";width: 100%;border-bottom: 1px solid gray;flex-grow: 1;}#sk-container-id-1 div.sk-label:hover label.sk-toggleable__label {background-color: #d4ebff;}#sk-container-id-1 div.sk-serial::before {content: \"\";position: absolute;border-left: 1px solid gray;box-sizing: border-box;top: 0;bottom: 0;left: 50%;z-index: 0;}#sk-container-id-1 div.sk-serial {display: flex;flex-direction: column;align-items: center;background-color: white;padding-right: 0.2em;padding-left: 0.2em;position: relative;}#sk-container-id-1 div.sk-item {position: relative;z-index: 1;}#sk-container-id-1 div.sk-parallel {display: flex;align-items: stretch;justify-content: center;background-color: white;position: relative;}#sk-container-id-1 div.sk-item::before, #sk-container-id-1 div.sk-parallel-item::before {content: \"\";position: absolute;border-left: 1px solid gray;box-sizing: border-box;top: 0;bottom: 0;left: 50%;z-index: -1;}#sk-container-id-1 div.sk-parallel-item {display: flex;flex-direction: column;z-index: 1;position: relative;background-color: white;}#sk-container-id-1 div.sk-parallel-item:first-child::after {align-self: flex-end;width: 50%;}#sk-container-id-1 div.sk-parallel-item:last-child::after {align-self: flex-start;width: 50%;}#sk-container-id-1 div.sk-parallel-item:only-child::after {width: 0;}#sk-container-id-1 div.sk-dashed-wrapped {border: 1px dashed gray;margin: 0 0.4em 0.5em 0.4em;box-sizing: border-box;padding-bottom: 0.4em;background-color: white;}#sk-container-id-1 div.sk-label label {font-family: monospace;font-weight: bold;display: inline-block;line-height: 1.2em;}#sk-container-id-1 div.sk-label-container {text-align: center;}#sk-container-id-1 div.sk-container {/* jupyter's `normalize.less` sets `[hidden] { display: none; }` but bootstrap.min.css set `[hidden] { display: none !important; }` so we also need the `!important` here to be able to override the default hidden behavior on the sphinx rendered scikit-learn.org. See: https://github.com/scikit-learn/scikit-learn/issues/21755 */display: inline-block !important;position: relative;}#sk-container-id-1 div.sk-text-repr-fallback {display: none;}</style><div id=\"sk-container-id-1\" class=\"sk-top-container\"><div class=\"sk-text-repr-fallback\"><pre>DecisionTreeClassifier(max_depth=3, random_state=97)</pre><b>In a Jupyter environment, please rerun this cell to show the HTML representation or trust the notebook. <br />On GitHub, the HTML representation is unable to render, please try loading this page with nbviewer.org.</b></div><div class=\"sk-container\" hidden><div class=\"sk-item\"><div class=\"sk-estimator sk-toggleable\"><input class=\"sk-toggleable__control sk-hidden--visually\" id=\"sk-estimator-id-1\" type=\"checkbox\" checked><label for=\"sk-estimator-id-1\" class=\"sk-toggleable__label sk-toggleable__label-arrow\">DecisionTreeClassifier</label><div class=\"sk-toggleable__content\"><pre>DecisionTreeClassifier(max_depth=3, random_state=97)</pre></div></div></div></div></div>"
      ],
      "text/plain": [
       "DecisionTreeClassifier(max_depth=3, random_state=97)"
      ]
     },
     "execution_count": 12,
     "metadata": {},
     "output_type": "execute_result"
    }
   ],
   "source": [
    "klas = DecisionTreeClassifier(criterion='gini', max_depth=3, random_state=97)\n",
    "\n",
    "klas.fit(x_train, y_train)"
   ]
  },
  {
   "cell_type": "code",
   "execution_count": 13,
   "id": "189726aa-db49-46f6-9dc3-169c07b471fd",
   "metadata": {},
   "outputs": [],
   "source": [
    "y_pred = klas.predict(x_test)"
   ]
  },
  {
   "cell_type": "code",
   "execution_count": 14,
   "id": "3d38eb8b-803a-4afa-8759-b75cd1151c17",
   "metadata": {},
   "outputs": [
    {
     "data": {
      "text/plain": [
       "array(['Sedang', 'Sedang', 'Buruk', ..., 'Buruk', 'Buruk', 'Sedang'],\n",
       "      dtype=object)"
      ]
     },
     "execution_count": 14,
     "metadata": {},
     "output_type": "execute_result"
    }
   ],
   "source": [
    "y_pred_dt = klas.predict(x_train)\n",
    "\n",
    "y_pred_dt"
   ]
  },
  {
   "cell_type": "markdown",
   "id": "84dc2d95-f532-41a9-a9be-7ec310922dda",
   "metadata": {},
   "source": [
    "**Klasifikasi menggunakan Data Train**"
   ]
  },
  {
   "cell_type": "code",
   "execution_count": 15,
   "id": "94e0345b-b5d3-4259-be98-d6814100ba54",
   "metadata": {},
   "outputs": [
    {
     "data": {
      "image/svg+xml": [
       "<?xml version=\"1.0\" encoding=\"UTF-8\" standalone=\"no\"?>\n",
       "<!DOCTYPE svg PUBLIC \"-//W3C//DTD SVG 1.1//EN\"\n",
       " \"http://www.w3.org/Graphics/SVG/1.1/DTD/svg11.dtd\">\n",
       "<!-- Generated by graphviz version 5.0.0 (20220707.1540)\n",
       " -->\n",
       "<!-- Title: Tree Pages: 1 -->\n",
       "<svg width=\"355pt\" height=\"373pt\"\n",
       " viewBox=\"0.00 0.00 355.00 373.00\" xmlns=\"http://www.w3.org/2000/svg\" xmlns:xlink=\"http://www.w3.org/1999/xlink\">\n",
       "<g id=\"graph0\" class=\"graph\" transform=\"scale(1 1) rotate(0) translate(4 369)\">\n",
       "<title>Tree</title>\n",
       "<polygon fill=\"white\" stroke=\"transparent\" points=\"-4,4 -4,-369 351,-369 351,4 -4,4\"/>\n",
       "<!-- 0 -->\n",
       "<g id=\"node1\" class=\"node\">\n",
       "<title>0</title>\n",
       "<polygon fill=\"#bf9bf2\" stroke=\"black\" points=\"216.5,-365 62.5,-365 62.5,-297 216.5,-297 216.5,-365\"/>\n",
       "<text text-anchor=\"middle\" x=\"139.5\" y=\"-349.8\" font-family=\"Helvetica,sans-Serif\" font-size=\"14.00\">o2 &lt;= 2.5</text>\n",
       "<text text-anchor=\"middle\" x=\"139.5\" y=\"-334.8\" font-family=\"Helvetica,sans-Serif\" font-size=\"14.00\">gini = 0.471</text>\n",
       "<text text-anchor=\"middle\" x=\"139.5\" y=\"-319.8\" font-family=\"Helvetica,sans-Serif\" font-size=\"14.00\">samples = 1372</text>\n",
       "<text text-anchor=\"middle\" x=\"139.5\" y=\"-304.8\" font-family=\"Helvetica,sans-Serif\" font-size=\"14.00\">value = [47, 422, 903]</text>\n",
       "</g>\n",
       "<!-- 1 -->\n",
       "<g id=\"node2\" class=\"node\">\n",
       "<title>1</title>\n",
       "<polygon fill=\"#39e581\" stroke=\"black\" points=\"129,-253.5 0,-253.5 0,-200.5 129,-200.5 129,-253.5\"/>\n",
       "<text text-anchor=\"middle\" x=\"64.5\" y=\"-238.3\" font-family=\"Helvetica,sans-Serif\" font-size=\"14.00\">gini = 0.0</text>\n",
       "<text text-anchor=\"middle\" x=\"64.5\" y=\"-223.3\" font-family=\"Helvetica,sans-Serif\" font-size=\"14.00\">samples = 417</text>\n",
       "<text text-anchor=\"middle\" x=\"64.5\" y=\"-208.3\" font-family=\"Helvetica,sans-Serif\" font-size=\"14.00\">value = [0, 417, 0]</text>\n",
       "</g>\n",
       "<!-- 0&#45;&gt;1 -->\n",
       "<g id=\"edge1\" class=\"edge\">\n",
       "<title>0&#45;&gt;1</title>\n",
       "<path fill=\"none\" stroke=\"black\" d=\"M115.15,-296.88C106.9,-285.67 97.68,-273.13 89.39,-261.85\"/>\n",
       "<polygon fill=\"black\" stroke=\"black\" points=\"92.01,-259.5 83.26,-253.52 86.37,-263.65 92.01,-259.5\"/>\n",
       "<text text-anchor=\"middle\" x=\"79.49\" y=\"-274.53\" font-family=\"Helvetica,sans-Serif\" font-size=\"14.00\">True</text>\n",
       "</g>\n",
       "<!-- 2 -->\n",
       "<g id=\"node3\" class=\"node\">\n",
       "<title>2</title>\n",
       "<polygon fill=\"#8844e6\" stroke=\"black\" points=\"284,-261 147,-261 147,-193 284,-193 284,-261\"/>\n",
       "<text text-anchor=\"middle\" x=\"215.5\" y=\"-245.8\" font-family=\"Helvetica,sans-Serif\" font-size=\"14.00\">pH &lt;= 6.0</text>\n",
       "<text text-anchor=\"middle\" x=\"215.5\" y=\"-230.8\" font-family=\"Helvetica,sans-Serif\" font-size=\"14.00\">gini = 0.103</text>\n",
       "<text text-anchor=\"middle\" x=\"215.5\" y=\"-215.8\" font-family=\"Helvetica,sans-Serif\" font-size=\"14.00\">samples = 955</text>\n",
       "<text text-anchor=\"middle\" x=\"215.5\" y=\"-200.8\" font-family=\"Helvetica,sans-Serif\" font-size=\"14.00\">value = [47, 5, 903]</text>\n",
       "</g>\n",
       "<!-- 0&#45;&gt;2 -->\n",
       "<g id=\"edge2\" class=\"edge\">\n",
       "<title>0&#45;&gt;2</title>\n",
       "<path fill=\"none\" stroke=\"black\" d=\"M164.18,-296.88C170.68,-288.15 177.78,-278.62 184.57,-269.51\"/>\n",
       "<polygon fill=\"black\" stroke=\"black\" points=\"187.52,-271.41 190.69,-261.3 181.91,-267.23 187.52,-271.41\"/>\n",
       "<text text-anchor=\"middle\" x=\"194.3\" y=\"-282.34\" font-family=\"Helvetica,sans-Serif\" font-size=\"14.00\">False</text>\n",
       "</g>\n",
       "<!-- 3 -->\n",
       "<g id=\"node4\" class=\"node\">\n",
       "<title>3</title>\n",
       "<polygon fill=\"#823ae5\" stroke=\"black\" points=\"208,-157 79,-157 79,-89 208,-89 208,-157\"/>\n",
       "<text text-anchor=\"middle\" x=\"143.5\" y=\"-141.8\" font-family=\"Helvetica,sans-Serif\" font-size=\"14.00\">amonia &lt;= 0.025</text>\n",
       "<text text-anchor=\"middle\" x=\"143.5\" y=\"-126.8\" font-family=\"Helvetica,sans-Serif\" font-size=\"14.00\">gini = 0.011</text>\n",
       "<text text-anchor=\"middle\" x=\"143.5\" y=\"-111.8\" font-family=\"Helvetica,sans-Serif\" font-size=\"14.00\">samples = 908</text>\n",
       "<text text-anchor=\"middle\" x=\"143.5\" y=\"-96.8\" font-family=\"Helvetica,sans-Serif\" font-size=\"14.00\">value = [0, 5, 903]</text>\n",
       "</g>\n",
       "<!-- 2&#45;&gt;3 -->\n",
       "<g id=\"edge3\" class=\"edge\">\n",
       "<title>2&#45;&gt;3</title>\n",
       "<path fill=\"none\" stroke=\"black\" d=\"M192.12,-192.88C185.96,-184.15 179.24,-174.62 172.8,-165.51\"/>\n",
       "<polygon fill=\"black\" stroke=\"black\" points=\"175.63,-163.45 167.01,-157.3 169.91,-167.49 175.63,-163.45\"/>\n",
       "</g>\n",
       "<!-- 6 -->\n",
       "<g id=\"node7\" class=\"node\">\n",
       "<title>6</title>\n",
       "<polygon fill=\"#e58139\" stroke=\"black\" points=\"347,-149.5 226,-149.5 226,-96.5 347,-96.5 347,-149.5\"/>\n",
       "<text text-anchor=\"middle\" x=\"286.5\" y=\"-134.3\" font-family=\"Helvetica,sans-Serif\" font-size=\"14.00\">gini = 0.0</text>\n",
       "<text text-anchor=\"middle\" x=\"286.5\" y=\"-119.3\" font-family=\"Helvetica,sans-Serif\" font-size=\"14.00\">samples = 47</text>\n",
       "<text text-anchor=\"middle\" x=\"286.5\" y=\"-104.3\" font-family=\"Helvetica,sans-Serif\" font-size=\"14.00\">value = [47, 0, 0]</text>\n",
       "</g>\n",
       "<!-- 2&#45;&gt;6 -->\n",
       "<g id=\"edge6\" class=\"edge\">\n",
       "<title>2&#45;&gt;6</title>\n",
       "<path fill=\"none\" stroke=\"black\" d=\"M238.55,-192.88C246.36,-181.67 255.09,-169.13 262.94,-157.85\"/>\n",
       "<polygon fill=\"black\" stroke=\"black\" points=\"265.9,-159.73 268.74,-149.52 260.15,-155.73 265.9,-159.73\"/>\n",
       "</g>\n",
       "<!-- 4 -->\n",
       "<g id=\"node5\" class=\"node\">\n",
       "<title>4</title>\n",
       "<polygon fill=\"#8139e5\" stroke=\"black\" points=\"139,-53 10,-53 10,0 139,0 139,-53\"/>\n",
       "<text text-anchor=\"middle\" x=\"74.5\" y=\"-37.8\" font-family=\"Helvetica,sans-Serif\" font-size=\"14.00\">gini = 0.0</text>\n",
       "<text text-anchor=\"middle\" x=\"74.5\" y=\"-22.8\" font-family=\"Helvetica,sans-Serif\" font-size=\"14.00\">samples = 903</text>\n",
       "<text text-anchor=\"middle\" x=\"74.5\" y=\"-7.8\" font-family=\"Helvetica,sans-Serif\" font-size=\"14.00\">value = [0, 0, 903]</text>\n",
       "</g>\n",
       "<!-- 3&#45;&gt;4 -->\n",
       "<g id=\"edge4\" class=\"edge\">\n",
       "<title>3&#45;&gt;4</title>\n",
       "<path fill=\"none\" stroke=\"black\" d=\"M119.37,-88.95C112.89,-80.07 105.87,-70.46 99.35,-61.54\"/>\n",
       "<polygon fill=\"black\" stroke=\"black\" points=\"102.02,-59.25 93.29,-53.24 96.36,-63.38 102.02,-59.25\"/>\n",
       "</g>\n",
       "<!-- 5 -->\n",
       "<g id=\"node6\" class=\"node\">\n",
       "<title>5</title>\n",
       "<polygon fill=\"#39e581\" stroke=\"black\" points=\"270,-53 157,-53 157,0 270,0 270,-53\"/>\n",
       "<text text-anchor=\"middle\" x=\"213.5\" y=\"-37.8\" font-family=\"Helvetica,sans-Serif\" font-size=\"14.00\">gini = 0.0</text>\n",
       "<text text-anchor=\"middle\" x=\"213.5\" y=\"-22.8\" font-family=\"Helvetica,sans-Serif\" font-size=\"14.00\">samples = 5</text>\n",
       "<text text-anchor=\"middle\" x=\"213.5\" y=\"-7.8\" font-family=\"Helvetica,sans-Serif\" font-size=\"14.00\">value = [0, 5, 0]</text>\n",
       "</g>\n",
       "<!-- 3&#45;&gt;5 -->\n",
       "<g id=\"edge5\" class=\"edge\">\n",
       "<title>3&#45;&gt;5</title>\n",
       "<path fill=\"none\" stroke=\"black\" d=\"M167.98,-88.95C174.56,-80.07 181.67,-70.46 188.29,-61.54\"/>\n",
       "<polygon fill=\"black\" stroke=\"black\" points=\"191.3,-63.36 194.44,-53.24 185.67,-59.19 191.3,-63.36\"/>\n",
       "</g>\n",
       "</g>\n",
       "</svg>\n"
      ],
      "text/plain": [
       "<graphviz.sources.Source at 0x23c18cbe510>"
      ]
     },
     "execution_count": 15,
     "metadata": {},
     "output_type": "execute_result"
    }
   ],
   "source": [
    "plot_data = tree.export_graphviz(klas, out_file=None,\n",
    "                                feature_names=x_train.columns,\n",
    "                                filled=True)\n",
    "# Draw graph\n",
    "graph = graphviz.Source(plot_data, format=\"png\")\n",
    "graph"
   ]
  },
  {
   "cell_type": "markdown",
   "id": "92fb0ca5-2539-47f0-9322-19c7ddc28f58",
   "metadata": {},
   "source": [
    "**Export Gambar Plot**"
   ]
  },
  {
   "cell_type": "code",
   "execution_count": 16,
   "id": "3af57d59-beb9-4895-ac1c-daf3caa0b754",
   "metadata": {},
   "outputs": [
    {
     "data": {
      "text/plain": [
       "True"
      ]
     },
     "execution_count": 16,
     "metadata": {},
     "output_type": "execute_result"
    }
   ],
   "source": [
    "graph = pydotplus.graph_from_dot_data(plot_data)\n",
    "Image(graph.create_png())\n",
    "graph.write_png('FinalDT.png')"
   ]
  },
  {
   "cell_type": "markdown",
   "id": "e9697845-62db-4d3d-9bcf-a98a93743ef1",
   "metadata": {},
   "source": [
    "## **Confusion Matrix**"
   ]
  },
  {
   "cell_type": "code",
   "execution_count": 17,
   "id": "d0ecada1-a1f2-4935-922e-dd7eb26d7937",
   "metadata": {},
   "outputs": [
    {
     "name": "stdout",
     "output_type": "stream",
     "text": [
      "Confusion Matrix:\n",
      " [[ 15   0   0]\n",
      " [  0  81   0]\n",
      " [  1   0 247]]\n"
     ]
    }
   ],
   "source": [
    "cm = confusion_matrix(y_test,y_pred)\n",
    "print('Confusion Matrix:\\n', cm)"
   ]
  },
  {
   "cell_type": "code",
   "execution_count": 18,
   "id": "7e562c39-c673-4847-a1c9-d5fbd755bea8",
   "metadata": {},
   "outputs": [
    {
     "data": {
      "image/png": "[encoded data removed]",
      "text/plain": [
       "<Figure size 640x480 with 2 Axes>"
      ]
     },
     "metadata": {},
     "output_type": "display_data"
    }
   ],
   "source": [
    "labels = ['Baik', 'Buruk', 'Sedang']\n",
    "\n",
    "# Plot confusion matrix\n",
    "fig, ax = plt.subplots()\n",
    "im = ax.imshow(cm, cmap='Pastel2')\n",
    "\n",
    "# Tambahkan teks pada setiap kotak\n",
    "for i in range(len(labels)):\n",
    "    for j in range(len(labels)):\n",
    "        text = ax.text(j, i, cm[i, j],\n",
    "                       ha=\"center\", va=\"center\", color=\"r\")\n",
    "\n",
    "# Tambahkan judul, label sumbu x, dan label sumbu y\n",
    "ax.set_title(\"Confusion Matrix\")\n",
    "ax.set_xlabel(\"Predicted label\")\n",
    "ax.set_ylabel(\"True label\")\n",
    "ax.set_xticks(np.arange(len(labels)))\n",
    "ax.set_yticks(np.arange(len(labels)))\n",
    "ax.set_xticklabels(labels)\n",
    "ax.set_yticklabels(labels)\n",
    "\n",
    "# Tampilkan colorbar\n",
    "cbar = ax.figure.colorbar(im, ax=ax)\n",
    "\n",
    "# Tampilkan plot\n",
    "plt.show()"
   ]
  },
  {
   "cell_type": "markdown",
   "id": "5c013f51-f39f-4644-a32a-e95da0ff85e8",
   "metadata": {},
   "source": [
    "**"
   ]
  },
  {
   "cell_type": "code",
   "execution_count": 19,
   "id": "b18b507b-7e48-4471-b80b-473697cdf21c",
   "metadata": {},
   "outputs": [
    {
     "name": "stdout",
     "output_type": "stream",
     "text": [
      "True Positive per class: {0: 15, 1: 81, 2: 247}\n",
      "True Negative per class: {0: 328, 1: 263, 2: 96}\n",
      "False Positive per class: {0: 1, 1: 0, 2: 0}\n",
      "False Negative per class: {0: 0, 1: 0, 2: 1}\n"
     ]
    }
   ],
   "source": [
    "tp = {}\n",
    "tn = {}\n",
    "fp = {}\n",
    "fn = {}\n",
    "for i in range(len(cm)):\n",
    "    tp[i] = cm[i,i]\n",
    "    tn[i] = sum(sum(cm)) - (sum(cm[i,:]) + sum(cm[:,i]) - cm[i,i])\n",
    "    fp[i] = sum(cm[:,i]) - cm[i,i]\n",
    "    fn[i] = sum(cm[i,:]) - cm[i,i]\n",
    "\n",
    "print('True Positive per class:', tp)\n",
    "print('True Negative per class:', tn)\n",
    "print('False Positive per class:', fp)\n",
    "print('False Negative per class:', fn)"
   ]
  },
  {
   "cell_type": "markdown",
   "id": "7b3d21f6-b72c-4905-84e7-010ba3e490a5",
   "metadata": {},
   "source": [
    "## **Classification Report**"
   ]
  },
  {
   "cell_type": "code",
   "execution_count": 20,
   "id": "0b2f1012-b12a-4e7b-84fc-e96f2c01c868",
   "metadata": {},
   "outputs": [
    {
     "name": "stdout",
     "output_type": "stream",
     "text": [
      "              precision    recall  f1-score   support\n",
      "\n",
      "        Baik       0.94      1.00      0.97        15\n",
      "       Buruk       1.00      1.00      1.00        81\n",
      "      Sedang       1.00      1.00      1.00       248\n",
      "\n",
      "    accuracy                           1.00       344\n",
      "   macro avg       0.98      1.00      0.99       344\n",
      "weighted avg       1.00      1.00      1.00       344\n",
      "\n"
     ]
    }
   ],
   "source": [
    "cr = classification_report(y_test, y_pred)\n",
    "print(cr)"
   ]
  },
  {
   "cell_type": "code",
   "execution_count": 21,
   "id": "34eb8b7b-c273-4ff9-ad4c-98dcf750e8bf",
   "metadata": {},
   "outputs": [
    {
     "data": {
      "text/plain": [
       "0.997093023255814"
      ]
     },
     "execution_count": 21,
     "metadata": {},
     "output_type": "execute_result"
    }
   ],
   "source": [
    "akurasi = accuracy_score(y_test, y_pred)\n",
    "akurasi"
   ]
  },
  {
   "cell_type": "code",
   "execution_count": 22,
   "id": "490b2ad1-fbb7-4c31-89d8-68676f29594e",
   "metadata": {},
   "outputs": [
    {
     "name": "stdout",
     "output_type": "stream",
     "text": [
      "Model accuracy score with criterion gini index: 0.9971\n",
      "Training-set accuracy score: 1.0000\n"
     ]
    }
   ],
   "source": [
    "print('Model accuracy score with criterion gini index: {0:0.4f}'. format(accuracy_score(y_test, y_pred)))\n",
    "#Accuracy Score for training set\n",
    "print('Training-set accuracy score: {0:0.4f}'. format(accuracy_score(y_train, y_pred_dt)))"
   ]
  },
  {
   "cell_type": "code",
   "execution_count": 23,
   "id": "ced01a65-e1b8-443a-89e7-868d226af570",
   "metadata": {},
   "outputs": [],
   "source": [
    "precision = precision_score(y_test, y_pred, average='macro')"
   ]
  },
  {
   "cell_type": "code",
   "execution_count": 24,
   "id": "9adb5f4a-1f9b-4742-9a1b-dcc49d62c457",
   "metadata": {},
   "outputs": [
    {
     "data": {
      "text/plain": [
       "0.9791666666666666"
      ]
     },
     "execution_count": 24,
     "metadata": {},
     "output_type": "execute_result"
    }
   ],
   "source": [
    "precision"
   ]
  },
  {
   "cell_type": "code",
   "execution_count": 25,
   "id": "2e9ad5a4-ed8b-40c3-ae94-8e1900424d71",
   "metadata": {},
   "outputs": [],
   "source": [
    "recall = recall_score(y_test, y_pred, average='macro')"
   ]
  },
  {
   "cell_type": "code",
   "execution_count": 26,
   "id": "0c29fdc2-a7ee-4a26-a8b7-ccda69b14b76",
   "metadata": {},
   "outputs": [
    {
     "data": {
      "text/plain": [
       "0.9986559139784946"
      ]
     },
     "execution_count": 26,
     "metadata": {},
     "output_type": "execute_result"
    }
   ],
   "source": [
    "recall"
   ]
  },
  {
   "cell_type": "code",
   "execution_count": 27,
   "id": "59420945-b01d-45e8-9986-8f5516dcf30c",
   "metadata": {},
   "outputs": [],
   "source": [
    "f1 = f1_score(y_test, y_pred, average='macro')"
   ]
  },
  {
   "cell_type": "code",
   "execution_count": 28,
   "id": "cd49a60b-7dfd-4e46-941f-a12f50f2cfa4",
   "metadata": {},
   "outputs": [
    {
     "data": {
      "text/plain": [
       "0.9885739111545563"
      ]
     },
     "execution_count": 28,
     "metadata": {},
     "output_type": "execute_result"
    }
   ],
   "source": [
    "f1"
   ]
  },
  {
   "cell_type": "markdown",
   "id": "3a37dac4-a862-4834-a5e9-73133ed44306",
   "metadata": {},
   "source": [
    "## **PENGUJIAN KLASIFIKASI DENGAN RANDOM DATA**"
   ]
  },
  {
   "cell_type": "markdown",
   "id": "afe99eec-8b60-4672-a09e-32464861ff3c",
   "metadata": {},
   "source": [
    "**1. Pengujian Baik**\n",
    "pengujian menggunakan nilai pH = 7, nilai o2 = 4, dan nilai amonia = 0.01"
   ]
  },
  {
   "cell_type": "code",
   "execution_count": 29,
   "id": "2e57a8fc-7526-495e-8fb7-396af4e50f98",
   "metadata": {},
   "outputs": [
    {
     "name": "stderr",
     "output_type": "stream",
     "text": [
      "C:\\Users\\acer\\AppData\\Roaming\\Python\\Python311\\site-packages\\sklearn\\base.py:464: UserWarning: X does not have valid feature names, but DecisionTreeClassifier was fitted with feature names\n",
      "  warnings.warn(\n"
     ]
    }
   ],
   "source": [
    "uji = klas.predict([[7, 4, 0.01]])"
   ]
  },
  {
   "cell_type": "code",
   "execution_count": 30,
   "id": "5e6ff236-fc68-450c-bf38-a108ce73c559",
   "metadata": {},
   "outputs": [
    {
     "data": {
      "text/plain": [
       "array(['Baik'], dtype=object)"
      ]
     },
     "execution_count": 30,
     "metadata": {},
     "output_type": "execute_result"
    }
   ],
   "source": [
    "uji"
   ]
  },
  {
   "cell_type": "markdown",
   "id": "74607bde-9ac4-4140-a278-a3522908d35d",
   "metadata": {},
   "source": [
    "**2. Pengujian Sedang**\n",
    "pengujian menggunakan nilai pH = 5, nilai o2 = 5, dan nilai amonia = 0.01"
   ]
  },
  {
   "cell_type": "code",
   "execution_count": 31,
   "id": "19d30324-c8bf-4d8b-a087-7183ce256efd",
   "metadata": {},
   "outputs": [
    {
     "name": "stderr",
     "output_type": "stream",
     "text": [
      "C:\\Users\\acer\\AppData\\Roaming\\Python\\Python311\\site-packages\\sklearn\\base.py:464: UserWarning: X does not have valid feature names, but DecisionTreeClassifier was fitted with feature names\n",
      "  warnings.warn(\n"
     ]
    }
   ],
   "source": [
    "uji = klas.predict([[5, 5, 0.01]])"
   ]
  },
  {
   "cell_type": "code",
   "execution_count": 32,
   "id": "9e58db12-e0a5-4f0c-9a4d-fc8ab992e5fe",
   "metadata": {},
   "outputs": [
    {
     "data": {
      "text/plain": [
       "array(['Sedang'], dtype=object)"
      ]
     },
     "execution_count": 32,
     "metadata": {},
     "output_type": "execute_result"
    }
   ],
   "source": [
    "uji"
   ]
  },
  {
   "cell_type": "markdown",
   "id": "e5bf42bc-8c5a-407a-bacc-a8ab17c1a767",
   "metadata": {},
   "source": [
    "**3. Pengujian Buruk**\n",
    "pengujian menggunakan nilai pH = 2, nilai o2 = 1, dan nilai amonia = 1"
   ]
  },
  {
   "cell_type": "code",
   "execution_count": 33,
   "id": "ca6730d7-8343-448f-9924-03dc3c8976b5",
   "metadata": {},
   "outputs": [
    {
     "name": "stderr",
     "output_type": "stream",
     "text": [
      "C:\\Users\\acer\\AppData\\Roaming\\Python\\Python311\\site-packages\\sklearn\\base.py:464: UserWarning: X does not have valid feature names, but DecisionTreeClassifier was fitted with feature names\n",
      "  warnings.warn(\n"
     ]
    }
   ],
   "source": [
    "uji = klas.predict([[2, 1, 1]])"
   ]
  },
  {
   "cell_type": "code",
   "execution_count": 34,
   "id": "80fbb940-1dd3-4b67-9df0-ca8ba61949e5",
   "metadata": {},
   "outputs": [
    {
     "data": {
      "text/plain": [
       "array(['Buruk'], dtype=object)"
      ]
     },
     "execution_count": 34,
     "metadata": {},
     "output_type": "execute_result"
    }
   ],
   "source": [
    "uji"
   ]
  },
  {
   "cell_type": "markdown",
   "id": "3b21f015-e182-4bb0-869e-de92c0de5f87",
   "metadata": {},
   "source": [
    "## **PENGUJIAN MODEL DENGAN DATASET BARU**"
   ]
  },
  {
   "cell_type": "code",
   "execution_count": 35,
   "id": "8d6c72ce-09b1-4e56-8d30-d2d20b33f42a",
   "metadata": {},
   "outputs": [],
   "source": [
    "dataset_baru = pd.read_excel(\"dataUji.xlsx\")"
   ]
  },
  {
   "cell_type": "code",
   "execution_count": 36,
   "id": "f9369b52-8df9-4726-99dd-0bd9e73bef1b",
   "metadata": {},
   "outputs": [
    {
     "data": {
      "text/html": [
       "<div>\n",
       "<style scoped>\n",
       "    .dataframe tbody tr th:only-of-type {\n",
       "        vertical-align: middle;\n",
       "    }\n",
       "\n",
       "    .dataframe tbody tr th {\n",
       "        vertical-align: top;\n",
       "    }\n",
       "\n",
       "    .dataframe thead th {\n",
       "        text-align: right;\n",
       "    }\n",
       "</style>\n",
       "<table border=\"1\" class=\"dataframe\">\n",
       "  <thead>\n",
       "    <tr style=\"text-align: right;\">\n",
       "      <th></th>\n",
       "      <th>pH</th>\n",
       "      <th>o2</th>\n",
       "      <th>amonia</th>\n",
       "      <th>date</th>\n",
       "      <th>Pakan</th>\n",
       "      <th>Kematian</th>\n",
       "    </tr>\n",
       "  </thead>\n",
       "  <tbody>\n",
       "    <tr>\n",
       "      <th>0</th>\n",
       "      <td>4.76</td>\n",
       "      <td>3</td>\n",
       "      <td>0.01</td>\n",
       "      <td>2023-10-02 01:53:08</td>\n",
       "      <td>0</td>\n",
       "      <td>0 Ekor</td>\n",
       "    </tr>\n",
       "    <tr>\n",
       "      <th>1</th>\n",
       "      <td>4.73</td>\n",
       "      <td>3</td>\n",
       "      <td>0.01</td>\n",
       "      <td>2023-10-02 01:54:09</td>\n",
       "      <td>0</td>\n",
       "      <td>0 Ekor</td>\n",
       "    </tr>\n",
       "    <tr>\n",
       "      <th>2</th>\n",
       "      <td>5.87</td>\n",
       "      <td>4</td>\n",
       "      <td>0.01</td>\n",
       "      <td>2023-10-02 05:40:49</td>\n",
       "      <td>0</td>\n",
       "      <td>0 Ekor</td>\n",
       "    </tr>\n",
       "    <tr>\n",
       "      <th>3</th>\n",
       "      <td>4.75</td>\n",
       "      <td>2</td>\n",
       "      <td>0.01</td>\n",
       "      <td>2023-10-02 07:01:09</td>\n",
       "      <td>0</td>\n",
       "      <td>0 Ekor</td>\n",
       "    </tr>\n",
       "    <tr>\n",
       "      <th>4</th>\n",
       "      <td>4.70</td>\n",
       "      <td>2</td>\n",
       "      <td>0.01</td>\n",
       "      <td>2023-10-02 07:02:09</td>\n",
       "      <td>0</td>\n",
       "      <td>0 Ekor</td>\n",
       "    </tr>\n",
       "    <tr>\n",
       "      <th>5</th>\n",
       "      <td>5.63</td>\n",
       "      <td>2</td>\n",
       "      <td>0.01</td>\n",
       "      <td>2023-10-03 13:11:09</td>\n",
       "      <td>0</td>\n",
       "      <td>0 Ekor</td>\n",
       "    </tr>\n",
       "    <tr>\n",
       "      <th>6</th>\n",
       "      <td>4.63</td>\n",
       "      <td>2</td>\n",
       "      <td>0.01</td>\n",
       "      <td>2023-10-03 13:12:09</td>\n",
       "      <td>0</td>\n",
       "      <td>0 Ekor</td>\n",
       "    </tr>\n",
       "    <tr>\n",
       "      <th>7</th>\n",
       "      <td>5.46</td>\n",
       "      <td>2</td>\n",
       "      <td>0.01</td>\n",
       "      <td>2023-10-03 13:13:09</td>\n",
       "      <td>0</td>\n",
       "      <td>0 Ekor</td>\n",
       "    </tr>\n",
       "    <tr>\n",
       "      <th>8</th>\n",
       "      <td>5.22</td>\n",
       "      <td>2</td>\n",
       "      <td>0.01</td>\n",
       "      <td>2023-10-03 13:14:09</td>\n",
       "      <td>0</td>\n",
       "      <td>0 Ekor</td>\n",
       "    </tr>\n",
       "    <tr>\n",
       "      <th>9</th>\n",
       "      <td>4.60</td>\n",
       "      <td>2</td>\n",
       "      <td>0.01</td>\n",
       "      <td>2023-10-03 13:15:09</td>\n",
       "      <td>0</td>\n",
       "      <td>0 Ekor</td>\n",
       "    </tr>\n",
       "    <tr>\n",
       "      <th>10</th>\n",
       "      <td>6.24</td>\n",
       "      <td>2</td>\n",
       "      <td>0.01</td>\n",
       "      <td>2023-10-03 13:16:09</td>\n",
       "      <td>0</td>\n",
       "      <td>0 Ekor</td>\n",
       "    </tr>\n",
       "    <tr>\n",
       "      <th>11</th>\n",
       "      <td>4.30</td>\n",
       "      <td>2</td>\n",
       "      <td>0.01</td>\n",
       "      <td>2023-10-03 13:17:09</td>\n",
       "      <td>0</td>\n",
       "      <td>0 Ekor</td>\n",
       "    </tr>\n",
       "    <tr>\n",
       "      <th>12</th>\n",
       "      <td>5.24</td>\n",
       "      <td>2</td>\n",
       "      <td>0.01</td>\n",
       "      <td>2023-10-03 13:18:10</td>\n",
       "      <td>0</td>\n",
       "      <td>0 Ekor</td>\n",
       "    </tr>\n",
       "    <tr>\n",
       "      <th>13</th>\n",
       "      <td>5.45</td>\n",
       "      <td>2</td>\n",
       "      <td>0.01</td>\n",
       "      <td>2023-10-03 13:19:09</td>\n",
       "      <td>0</td>\n",
       "      <td>0 Ekor</td>\n",
       "    </tr>\n",
       "    <tr>\n",
       "      <th>14</th>\n",
       "      <td>5.37</td>\n",
       "      <td>2</td>\n",
       "      <td>0.01</td>\n",
       "      <td>2023-10-03 13:20:09</td>\n",
       "      <td>0</td>\n",
       "      <td>0 Ekor</td>\n",
       "    </tr>\n",
       "    <tr>\n",
       "      <th>15</th>\n",
       "      <td>5.89</td>\n",
       "      <td>2</td>\n",
       "      <td>0.03</td>\n",
       "      <td>2023-11-03 10:45:26</td>\n",
       "      <td>0</td>\n",
       "      <td>0 Ekor</td>\n",
       "    </tr>\n",
       "    <tr>\n",
       "      <th>16</th>\n",
       "      <td>6.89</td>\n",
       "      <td>2</td>\n",
       "      <td>0.03</td>\n",
       "      <td>2023-11-03 10:45:56</td>\n",
       "      <td>0</td>\n",
       "      <td>0 Ekor</td>\n",
       "    </tr>\n",
       "    <tr>\n",
       "      <th>17</th>\n",
       "      <td>5.89</td>\n",
       "      <td>2</td>\n",
       "      <td>0.03</td>\n",
       "      <td>2023-11-03 11:02:53</td>\n",
       "      <td>0</td>\n",
       "      <td>0 Ekor</td>\n",
       "    </tr>\n",
       "    <tr>\n",
       "      <th>18</th>\n",
       "      <td>4.76</td>\n",
       "      <td>3</td>\n",
       "      <td>0.01</td>\n",
       "      <td>2023-10-02 01:51:09</td>\n",
       "      <td>0</td>\n",
       "      <td>0 Ekor</td>\n",
       "    </tr>\n",
       "    <tr>\n",
       "      <th>19</th>\n",
       "      <td>6.16</td>\n",
       "      <td>2</td>\n",
       "      <td>0.02</td>\n",
       "      <td>2023-10-03 12:45:10</td>\n",
       "      <td>0</td>\n",
       "      <td>0 Ekor</td>\n",
       "    </tr>\n",
       "  </tbody>\n",
       "</table>\n",
       "</div>"
      ],
      "text/plain": [
       "      pH  o2  amonia                 date  Pakan Kematian\n",
       "0   4.76   3    0.01  2023-10-02 01:53:08      0   0 Ekor\n",
       "1   4.73   3    0.01  2023-10-02 01:54:09      0   0 Ekor\n",
       "2   5.87   4    0.01  2023-10-02 05:40:49      0   0 Ekor\n",
       "3   4.75   2    0.01  2023-10-02 07:01:09      0   0 Ekor\n",
       "4   4.70   2    0.01  2023-10-02 07:02:09      0   0 Ekor\n",
       "5   5.63   2    0.01  2023-10-03 13:11:09      0   0 Ekor\n",
       "6   4.63   2    0.01  2023-10-03 13:12:09      0   0 Ekor\n",
       "7   5.46   2    0.01  2023-10-03 13:13:09      0   0 Ekor\n",
       "8   5.22   2    0.01  2023-10-03 13:14:09      0   0 Ekor\n",
       "9   4.60   2    0.01  2023-10-03 13:15:09      0   0 Ekor\n",
       "10  6.24   2    0.01  2023-10-03 13:16:09      0   0 Ekor\n",
       "11  4.30   2    0.01  2023-10-03 13:17:09      0   0 Ekor\n",
       "12  5.24   2    0.01  2023-10-03 13:18:10      0   0 Ekor\n",
       "13  5.45   2    0.01  2023-10-03 13:19:09      0   0 Ekor\n",
       "14  5.37   2    0.01  2023-10-03 13:20:09      0   0 Ekor\n",
       "15  5.89   2    0.03  2023-11-03 10:45:26      0   0 Ekor\n",
       "16  6.89   2    0.03  2023-11-03 10:45:56      0   0 Ekor\n",
       "17  5.89   2    0.03  2023-11-03 11:02:53      0   0 Ekor\n",
       "18  4.76   3    0.01  2023-10-02 01:51:09      0   0 Ekor\n",
       "19  6.16   2    0.02  2023-10-03 12:45:10      0   0 Ekor"
      ]
     },
     "execution_count": 36,
     "metadata": {},
     "output_type": "execute_result"
    }
   ],
   "source": [
    "dataset_baru"
   ]
  },
  {
   "cell_type": "code",
   "execution_count": 37,
   "id": "adad59e1-67ea-4ff2-b0e0-162ce1202e01",
   "metadata": {},
   "outputs": [],
   "source": [
    "dataset_uji = dataset_baru.drop(columns=['date', 'Pakan', 'Kematian'])"
   ]
  },
  {
   "cell_type": "code",
   "execution_count": 38,
   "id": "c9997a6b-e40f-421f-96a2-4cd83053a36d",
   "metadata": {},
   "outputs": [],
   "source": [
    "uji_1 = klas.predict(dataset_uji)"
   ]
  },
  {
   "cell_type": "code",
   "execution_count": 39,
   "id": "f161e68f-90de-4c24-bef4-aa61df05ec3b",
   "metadata": {},
   "outputs": [
    {
     "data": {
      "text/plain": [
       "array(['Sedang', 'Sedang', 'Sedang', 'Buruk', 'Buruk', 'Buruk', 'Buruk',\n",
       "       'Buruk', 'Buruk', 'Buruk', 'Buruk', 'Buruk', 'Buruk', 'Buruk',\n",
       "       'Buruk', 'Buruk', 'Buruk', 'Buruk', 'Sedang', 'Buruk'],\n",
       "      dtype=object)"
      ]
     },
     "execution_count": 39,
     "metadata": {},
     "output_type": "execute_result"
    }
   ],
   "source": [
    "uji_1"
   ]
  }
 ],
 "metadata": {
  "kernelspec": {
   "display_name": "Python 3 (ipykernel)",
   "language": "python",
   "name": "python3"
  },
  "language_info": {
   "codemirror_mode": {
    "name": "ipython",
    "version": 3
   },
   "file_extension": ".py",
   "mimetype": "text/x-python",
   "name": "python",
   "nbconvert_exporter": "python",
   "pygments_lexer": "ipython3",
   "version": "3.11.5"
  }
 },
 "nbformat": 4,
 "nbformat_minor": 5
}
